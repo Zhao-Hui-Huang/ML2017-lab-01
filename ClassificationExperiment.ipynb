{
 "cells": [
  {
   "cell_type": "code",
   "execution_count": 11,
   "metadata": {},
   "outputs": [
    {
     "data": {
      "image/png": "[encoded data removed]",
      "text/plain": [
       "<matplotlib.figure.Figure at 0xa9b5588>"
      ]
     },
     "metadata": {},
     "output_type": "display_data"
    }
   ],
   "source": [
    "%matplotlib inline\n",
    "\n",
    "import matplotlib.pyplot as plt\n",
    "from sklearn.externals.joblib import Memory\n",
    "from sklearn.datasets import load_svmlight_file\n",
    "from sklearn.model_selection import train_test_split\n",
    "import numpy as np\n",
    "\n",
    "# get train data and validation data\n",
    "def get_data():\n",
    "    data = load_svmlight_file(\"australian_scale.txt\")\n",
    "    return data[0].toarray(), data[1]\n",
    "X, y = get_data()\n",
    "X_train, X_validation, y_train, y_valid`ation = train_test_split(X, y, test_size=0.33, random_state=42)\n",
    "\n",
    "Epochs=100\n",
    "lr=0.1\n",
    "C=2**-3\n",
    "\n",
    "#train and validation loss array\n",
    "train_loss_arr=[]\n",
    "validation_loss_arr=[]\n",
    "\n",
    "# init w\n",
    "w = np.zeros((15, 1))\n",
    "\n",
    "# modify X for bias\n",
    "train_column = np.ones((len(X_train), 1))\n",
    "X_train = np.column_stack((X_train, train_column))\n",
    "validation_column = np.ones((len(X_validation), 1))\n",
    "X_validation = np.column_stack((X_validation, validation_column))\n",
    "\n",
    "for count in range(Epochs):    \n",
    "    # calculate the gradient\n",
    "    temp = 1 - (y_train.reshape(-1, 1) * np.dot(X_train, w))\n",
    "    temp[temp<=0] = 0\n",
    "    grad = w - C * (np.dot(np.transpose(X_train), temp * y_train.reshape(-1, 1)))/len(X_train)\n",
    "    \n",
    "    # update\n",
    "    w = w - lr * grad\n",
    "\n",
    "    # record loss in traing dataset\n",
    "    temp = 1 - (y_train.reshape(-1, 1) * np.dot(X_train, w))\n",
    "    temp[temp<=0] = 0\n",
    "    training_loss = (1.0/2) * (np.dot(np.transpose(w), w)) + C * np.sum(temp)/len(X_train)\n",
    "    training_loss = training_loss.reshape(-1)\n",
    "\n",
    "    # record loss in validation dataset\n",
    "    temp = 1 - (y_validation.reshape(-1, 1) * np.dot(X_validation, w))\n",
    "    temp[temp<=0] = 0\n",
    "    validation_loss = (1.0/2) * (np.dot(np.transpose(w), w)) + C * np.sum(temp)/len(X_validation)\n",
    "    validation_loss = validation_loss.reshape(-1)\n",
    "\n",
    "    train_loss_arr.extend(training_loss)\n",
    "    validation_loss_arr.extend(validation_loss)\n",
    "\n",
    "# plot\n",
    "plt.xlabel('x Epoch')\n",
    "plt.ylabel('y Loss')\n",
    "plt.title(\"Loss in Training data and Validation data\")\n",
    "plt.plot(list(range(count+1)) , train_loss_arr,label = \"train\")\n",
    "plt.plot(list(range(count+1)) , validation_loss_arr,label = \"validation\")\n",
    "plt.legend()\n",
    "plt.show()"
   ]
  },
  {
   "cell_type": "code",
   "execution_count": null,
   "metadata": {
    "collapsed": true
   },
   "outputs": [],
   "source": []
  }
 ],
 "metadata": {
  "kernelspec": {
   "display_name": "Python 3",
   "language": "python",
   "name": "python3"
  },
  "language_info": {
   "codemirror_mode": {
    "name": "ipython",
    "version": 3
   },
   "file_extension": ".py",
   "mimetype": "text/x-python",
   "name": "python",
   "nbconvert_exporter": "python",
   "pygments_lexer": "ipython3",
   "version": "3.6.3"
  }
 },
 "nbformat": 4,
 "nbformat_minor": 2
}
