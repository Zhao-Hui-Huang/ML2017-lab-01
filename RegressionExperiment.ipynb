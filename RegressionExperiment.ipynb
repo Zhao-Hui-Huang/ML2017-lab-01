{
 "cells": [
  {
   "cell_type": "code",
   "execution_count": 19,
   "metadata": {},
   "outputs": [
    {
     "data": {
      "image/png": "[encoded data removed]",
      "text/plain": [
       "<matplotlib.figure.Figure at 0x5494588>"
      ]
     },
     "metadata": {},
     "output_type": "display_data"
    }
   ],
   "source": [
    "%matplotlib inline\n",
    "\n",
    "import matplotlib.pyplot as plt\n",
    "from sklearn.externals.joblib import Memory\n",
    "from sklearn.datasets import load_svmlight_file\n",
    "from sklearn.model_selection import train_test_split\n",
    "import numpy as np\n",
    "\n",
    "# get train data and validation data\n",
    "def get_data():\n",
    "    data = load_svmlight_file(\"housing_scale.txt\")\n",
    "    return data[0], data[1]\n",
    "X, y = get_data()\n",
    "X_train, X_validation, y_train, y_validation = train_test_split(X, y, test_size=0.33, random_state=42)\n",
    "\n",
    "eta=0.1;\n",
    "# bias\n",
    "b=0;\n",
    "# w\n",
    "w=np.zeros(13);\n",
    "# gradient\n",
    "d_b=0;\n",
    "d_w=np.zeros(13);\n",
    "#设置允许误差值\n",
    "epsilon = 1\n",
    "# m\n",
    "m=len(y_train)\n",
    "m_validation=len(y_validation)\n",
    "# \n",
    "Epochs=100\n",
    "#train and validation loss array\n",
    "train_loss_arr=[]\n",
    "validation_loss_arr=[]\n",
    "\n",
    "for count in range(Epochs):    \n",
    "    # calculate the gradient\n",
    "    b_tmp = b;\n",
    "    w_tmp = w.copy();\n",
    "    d_b = 0;\n",
    "    d_w = np.zeros(13);\n",
    "    for i in range(m):\n",
    "        d_b += (b_tmp + X_train[i].dot(w_tmp) - y_train[i])\n",
    "        for j in range(13):\n",
    "            d_w[j] += (b_tmp + X_train[i].dot(w_tmp) - y_train[i])*(X_train[i,j])\n",
    "    d_b = -d_b/m\n",
    "    d_w = -d_w/m\n",
    "    \n",
    "     # update\n",
    "    b += (eta*d_b)\n",
    "    w += (eta*d_w)\n",
    "    \n",
    "    # record loss in traing dataset\n",
    "    l = 0;\n",
    "    for i in range(m):\n",
    "        l += (b + X_train[i].dot(w) - y_train[i]) ** 2\n",
    "    l=l/(2.0*m);    \n",
    "    train_loss_arr.append(l)\n",
    "    \n",
    "    # record loss in validation dataset\n",
    "    l_validation = 0;\n",
    "    for i in range(m_validation):\n",
    "        l_validation += (b + X_validation[i].dot(w) - y_validation[i]) ** 2\n",
    "    l_validation=l_validation/(2.0*m_validation)\n",
    "    validation_loss_arr.append(l_validation)\n",
    "    \n",
    "#     if(count >0 and abs(train_loss_arr[count]-train_loss_arr[count-1])<epsilon):\n",
    "#         break\n",
    "\n",
    "# plot\n",
    "plt.xlabel('x Epoch')\n",
    "plt.ylabel('y Loss')\n",
    "plt.title(\"Loss in Training data and Validation data\")\n",
    "plt.plot(list(range(count+1)) , train_loss_arr,label = \"train\")\n",
    "plt.plot(list(range(count+1)) , validation_loss_arr,label = \"validation\")\n",
    "plt.legend()\n",
    "plt.show()"
   ]
  },
  {
   "cell_type": "code",
   "execution_count": null,
   "metadata": {
    "collapsed": true
   },
   "outputs": [],
   "source": []
  }
 ],
 "metadata": {
  "kernelspec": {
   "display_name": "Python 3",
   "language": "python",
   "name": "python3"
  },
  "language_info": {
   "codemirror_mode": {
    "name": "ipython",
    "version": 3
   },
   "file_extension": ".py",
   "mimetype": "text/x-python",
   "name": "python",
   "nbconvert_exporter": "python",
   "pygments_lexer": "ipython3",
   "version": "3.6.3"
  }
 },
 "nbformat": 4,
 "nbformat_minor": 2
}
